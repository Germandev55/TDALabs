{
 "cells": [
  {
   "cell_type": "markdown",
   "metadata": {},
   "source": [
    "# Diffusion Maps + TDA\n",
    "\n",
    "In this module, we will explore how nonlinear dimension reduction (NLDR) can complement TDA tools.  "
   ]
  },
  {
   "cell_type": "code",
   "execution_count": null,
   "metadata": {},
   "outputs": [],
   "source": [
    "import numpy as np\n",
    "%matplotlib notebook\n",
    "import matplotlib.pyplot as plt\n",
    "from mpl_toolkits.mplot3d import Axes3D\n",
    "from matplotlib.offsetbox import OffsetImage, AnnotationBbox\n",
    "from ripser import ripser\n",
    "from persim import plot_diagrams\n",
    "from DiffusionMaps import *"
   ]
  },
  {
   "cell_type": "markdown",
   "metadata": {},
   "source": [
    "We will now setup a \"pinched circle\" shape which we will use as an example.  Perhaps we are just interested in the fact that it's a topological loop, in which case we don't want to accidentally confuse it for a Figure 8 (which it is close to).  In this case, diffusion maps can help take care of the extrinsic embedding."
   ]
  },
  {
   "cell_type": "code",
   "execution_count": null,
   "metadata": {},
   "outputs": [],
   "source": [
    "def getPinchedCircle(N):\n",
    "    t = np.linspace(0, 2*np.pi, N+1)[0:N]\n",
    "    x = np.zeros((N, 2))\n",
    "    x[:, 0] = (1.2 + np.cos(2*t))*np.cos(t)\n",
    "    x[:, 1] = (1.2 + np.cos(2*t))*np.sin(t)\n",
    "    return x\n",
    "\n",
    "plt.figure()\n",
    "N = 400\n",
    "X = getPinchedCircle(N)\n",
    "plt.scatter(X[:, 0], X[:, 1], 40, np.arange(N), cmap = 'Spectral', edgecolor = 'none')\n",
    "plt.axis('equal')\n",
    "plt.show()"
   ]
  },
  {
   "cell_type": "code",
   "execution_count": null,
   "metadata": {},
   "outputs": [],
   "source": [
    "N = 400\n",
    "XOrig = getPinchedCircle(N)\n",
    "SSMOrig = getSSM(XOrig)\n",
    "Kappa = 0.05\n",
    "t = 200\n",
    "\n",
    "dgms1 = ripser(XOrig)['dgms']\n",
    "M = getDiffusionMap(SSMOrig, Kappa, t)\n",
    "M = M/np.abs(np.max(M))\n",
    "dgms2 = ripser(M)['dgms']\n",
    "SSM = getSSM(M)\n",
    "X = M[:, [-2, -3]]\n",
    "\n",
    "dgms1[1] += 0.01*np.random.randn(dgms1[1].shape[0], 2)\n",
    "\n",
    "plt.figure(figsize=(12, 8))\n",
    "plt.subplot(231)\n",
    "plt.scatter(XOrig[:, 0], XOrig[:, 1], 40, np.arange(N), cmap = 'Spectral', edgecolor = 'none')\n",
    "plt.title(\"Original Point Cloud\")\n",
    "plt.axis('equal')\n",
    "plt.subplot(232)\n",
    "plt.imshow(SSMOrig, interpolation = 'nearest', cmap = 'afmhot')\n",
    "plt.title(\"Distance Matrix\")\n",
    "plt.subplot(233)\n",
    "plot_diagrams(dgms1)\n",
    "plt.subplot(234)\n",
    "plt.scatter(X[:, 0], X[:, 1], 40, np.arange(N), cmap = 'Spectral', edgecolor = 'none')\n",
    "plt.title(\"Diffusion Maps 2D Projection\")\n",
    "plt.axis('equal')\n",
    "plt.subplot(235)\n",
    "plt.imshow(SSM, interpolation = 'nearest', cmap = 'afmhot')\n",
    "plt.title(\"Distance Matrix\")\n",
    "plt.subplot(236)\n",
    "plot_diagrams(dgms2)\n",
    "\n",
    "plt.show()"
   ]
  },
  {
   "cell_type": "code",
   "execution_count": null,
   "metadata": {},
   "outputs": [],
   "source": []
  },
  {
   "cell_type": "code",
   "execution_count": null,
   "metadata": {},
   "outputs": [],
   "source": []
  }
 ],
 "metadata": {
  "kernelspec": {
   "display_name": "Python 3",
   "language": "python",
   "name": "python3"
  },
  "language_info": {
   "codemirror_mode": {
    "name": "ipython",
    "version": 3
   },
   "file_extension": ".py",
   "mimetype": "text/x-python",
   "name": "python",
   "nbconvert_exporter": "python",
   "pygments_lexer": "ipython3",
   "version": "3.7.1"
  }
 },
 "nbformat": 4,
 "nbformat_minor": 2
}
